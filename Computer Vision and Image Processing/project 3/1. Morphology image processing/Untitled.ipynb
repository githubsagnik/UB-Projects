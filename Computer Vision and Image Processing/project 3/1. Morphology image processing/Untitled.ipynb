{
 "cells": [
  {
   "cell_type": "code",
   "execution_count": 4,
   "metadata": {},
   "outputs": [],
   "source": [
    "import cv2 as cv\n",
    "import numpy as np"
   ]
  },
  {
   "cell_type": "code",
   "execution_count": 13,
   "metadata": {},
   "outputs": [
    {
     "data": {
      "text/plain": [
       "True"
      ]
     },
     "execution_count": 13,
     "metadata": {},
     "output_type": "execute_result"
    }
   ],
   "source": [
    "import cv2 as cv\n",
    "import numpy as np\n",
    "\n",
    "def dilation(org_img):\n",
    "    \n",
    "    r,c = org_img.shape\n",
    "    img = np.zeros(org_img.shape)\n",
    "    for i in range (1,(r-1)):\n",
    "        for j in range (1,(c-1)):\n",
    "            if (org_img[i][j] == 255):\n",
    "                img[i-1][j]   = 255 \n",
    "                img[i][j]     = 255 \n",
    "                img[i+1][j]   = 255 \n",
    "                img[i-1][j+1] = 255 \n",
    "                img[i][j+1]   = 255 \n",
    "                img[i+1][j+1] = 255\n",
    "                img[i-1][j-1] = 255 \n",
    "                img[i][j-1]   = 255 \n",
    "                img[i+1][j-1] = 255\n",
    "            \n",
    "    cv.imwrite('dilation.jpg', img) \n",
    "    return img\n",
    "                 \n",
    "def erosion(org_img):\n",
    "\n",
    "    r,c = org_img.shape\n",
    "    img = np.zeros(org_img.shape)\n",
    "    for i in range (1,(r-1)):\n",
    "        for j in range (1,(c-1)):\n",
    "            if (org_img[i-1][j] == 255 and org_img[i][j] == 255 and org_img[i+1][j] == 255 and org_img[i-1][j+1] == 255 and\n",
    "                org_img[i][j+1] == 255 and org_img[i+1][j+1] == 255 and org_img[i-1][j-1] == 255 and \n",
    "                org_img[i][j-1] == 255 and org_img[i+1][j-1] == 255):\n",
    "                    \n",
    "                    img[i][j]   = 255\n",
    "                    \n",
    "            else:\n",
    "                img[i-1][j] = 0  \n",
    "                img[i+1][j] = 0   \n",
    "                img[i-1][j+1] = 0  \n",
    "                img[i][j+1] = 0   \n",
    "                img[i+1][j+1] = 0   \n",
    "                img[i-1][j-1] = 0   \n",
    "                img[i][j-1] = 0   \n",
    "                img[i+1][j-1] = 0\n",
    "                \n",
    "    cv.imwrite('erosion.jpg', img) \n",
    "    return img\n",
    "\n",
    "###<<<<<<-----------------------Noise detection/ removal---------------------->>>>>>######\n",
    "\n",
    "org_img    = cv.imread('noise.jpg',0)\n",
    "\n",
    "opening_then_closing = erosion(org_img)\n",
    "opening_then_closing = dilation(opening_then_closing)\n",
    "opening_then_closing = dilation(opening_then_closing)\n",
    "opening_then_closing = erosion(opening_then_closing)\n",
    "\n",
    "\n",
    "closing_then_opening = dilation(org_img)\n",
    "closing_then_opening = erosion(closing_then_opening)\n",
    "closing_then_opening = erosion(closing_then_opening)\n",
    "closing_then_opening = dilation(closing_then_opening)\n",
    "\n",
    "\n",
    "cv.imwrite('res_noise1.jpg', opening_then_closing)\n",
    "cv.imwrite('res_noise2.jpg', closing_then_opening)\n",
    "\n",
    "\n",
    "###<<<<<<-------------------------Boundary detection------------------------>>>>>>######\n",
    "\n",
    "img    = cv.imread('res_noise1.jpg',0)\n",
    "img1 = dilation(img)\n",
    "img2 = img1 - img\n",
    "cv.imwrite('res_bound1.jpg', img2)\n",
    "\n",
    "img    = cv.imread('res_noise2.jpg',0)\n",
    "img1 = dilation(img)\n",
    "img2 = img1 - img\n",
    "cv.imwrite('res_bound2.jpg', img2)"
   ]
  },
  {
   "cell_type": "code",
   "execution_count": 15,
   "metadata": {},
   "outputs": [
    {
     "data": {
      "text/plain": [
       "True"
      ]
     },
     "execution_count": 15,
     "metadata": {},
     "output_type": "execute_result"
    }
   ],
   "source": [
    "org_img = cv2.imread(\"noise.jpg\", 0)\n",
    "opening_then_closing = erosion(org_img)\n",
    "cv.imwrite('erosion.jpg', opening_then_closing)\n",
    "opening_then_closing = dilation(org_img)\n",
    "cv.imwrite('dilation.jpg', opening_then_closing)"
   ]
  },
  {
   "cell_type": "code",
   "execution_count": 6,
   "metadata": {},
   "outputs": [
    {
     "data": {
      "text/plain": [
       "True"
      ]
     },
     "execution_count": 6,
     "metadata": {},
     "output_type": "execute_result"
    }
   ],
   "source": [
    "org_img    = cv.imread('noise.jpg',0)\n",
    "\n",
    "opening_then_closing = erosion(org_img)\n",
    "opening_then_closing = dilation(opening_then_closing)\n",
    "opening_then_closing = dilation(opening_then_closing)\n",
    "opening_then_closing = erosion(opening_then_closing)\n",
    "\n",
    "cv.imwrite('res_noise1.jpg', opening_then_closing)\n",
    "\n",
    "org_img    = cv.imread('noise.jpg',0)\n",
    "\n",
    "closing_then_opening = dilation(org_img)\n",
    "closing_then_opening = erosion(closing_then_opening)\n",
    "closing_then_opening = erosion(closing_then_opening)\n",
    "closing_then_opening = dilation(closing_then_opening)\n",
    "\n",
    "cv.imwrite('res_noise2.jpg', closing_then_opening)\n",
    "\n",
    "img    = cv.imread('res_noise1.jpg',0)\n",
    "\n",
    "img1 = dilation(img)\n",
    "img2 = img1 - img\n",
    "\n",
    "cv.imwrite('res_bound1.jpg', img2)\n",
    "\n",
    "img    = cv.imread('res_noise2.jpg',0)\n",
    "\n",
    "img1 = dilation(img)\n",
    "img2 = img1 - img\n",
    "\n",
    "cv.imwrite('res_bound2.jpg', img2)"
   ]
  },
  {
   "cell_type": "code",
   "execution_count": 7,
   "metadata": {},
   "outputs": [
    {
     "data": {
      "text/plain": [
       "True"
      ]
     },
     "execution_count": 7,
     "metadata": {},
     "output_type": "execute_result"
    }
   ],
   "source": [
    "org_img    = cv.imread('noise.jpg',0)\n",
    "\n",
    "closing_then_opening = dilation(org_img)\n",
    "closing_then_opening = erosion(closing_then_opening)\n",
    "closing_then_opening = erosion(closing_then_opening)\n",
    "closing_then_opening = dilation(closing_then_opening)\n",
    "\n",
    "cv.imwrite('res_noise2.jpg', closing_then_opening)\n",
    "\n",
    "img    = cv.imread('res_noise1.jpg',0)\n",
    "\n",
    "img1 = dilation(img)\n",
    "img2 = img1 - img\n",
    "\n",
    "cv.imwrite('res_bound1.jpg', img2)\n",
    "\n",
    "img    = cv.imread('res_noise2.jpg',0)\n",
    "\n",
    "img1 = dilation(img)\n",
    "img2 = img1 - img\n",
    "\n",
    "cv.imwrite('res_bound2.jpg', img2)"
   ]
  },
  {
   "cell_type": "code",
   "execution_count": 8,
   "metadata": {},
   "outputs": [
    {
     "data": {
      "text/plain": [
       "True"
      ]
     },
     "execution_count": 8,
     "metadata": {},
     "output_type": "execute_result"
    }
   ],
   "source": [
    "img    = cv.imread('res_noise1.jpg',0)\n",
    "\n",
    "img1 = dilation(img)\n",
    "img2 = img1 - img\n",
    "\n",
    "cv.imwrite('res_bound1.jpg', img2)\n",
    "\n",
    "img    = cv.imread('res_noise2.jpg',0)\n",
    "\n",
    "img1 = dilation(img)\n",
    "img2 = img1 - img\n",
    "\n",
    "cv.imwrite('res_bound2.jpg', img2)"
   ]
  },
  {
   "cell_type": "code",
   "execution_count": 9,
   "metadata": {},
   "outputs": [
    {
     "data": {
      "text/plain": [
       "True"
      ]
     },
     "execution_count": 9,
     "metadata": {},
     "output_type": "execute_result"
    }
   ],
   "source": [
    "img    = cv.imread('res_noise2.jpg',0)\n",
    "\n",
    "img1 = dilation(img)\n",
    "img2 = img1 - img\n",
    "\n",
    "cv.imwrite('res_bound2.jpg', img2)"
   ]
  },
  {
   "cell_type": "code",
   "execution_count": 10,
   "metadata": {},
   "outputs": [
    {
     "ename": "AttributeError",
     "evalue": "'NoneType' object has no attribute 'shape'",
     "output_type": "error",
     "traceback": [
      "\u001b[1;31m---------------------------------------------------------------------------\u001b[0m",
      "\u001b[1;31mAttributeError\u001b[0m                            Traceback (most recent call last)",
      "\u001b[1;32m<ipython-input-10-4879fd36cd7d>\u001b[0m in \u001b[0;36m<module>\u001b[1;34m()\u001b[0m\n\u001b[0;32m     15\u001b[0m \u001b[1;31m##Zero out the border 5px\u001b[0m\u001b[1;33m\u001b[0m\u001b[1;33m\u001b[0m\u001b[0m\n\u001b[0;32m     16\u001b[0m \u001b[0mborderLen\u001b[0m \u001b[1;33m=\u001b[0m \u001b[1;36m5\u001b[0m                         \u001b[1;31m#The width to zero out the borders, counted in pixels\u001b[0m\u001b[1;33m\u001b[0m\u001b[0m\n\u001b[1;32m---> 17\u001b[1;33m \u001b[0mlenx\u001b[0m\u001b[1;33m,\u001b[0m \u001b[0mleny\u001b[0m \u001b[1;33m=\u001b[0m \u001b[0medged\u001b[0m\u001b[1;33m.\u001b[0m\u001b[0mshape\u001b[0m\u001b[1;33m\u001b[0m\u001b[0m\n\u001b[0m\u001b[0;32m     18\u001b[0m \u001b[1;33m\u001b[0m\u001b[0m\n\u001b[0;32m     19\u001b[0m \u001b[0medged\u001b[0m\u001b[1;33m[\u001b[0m\u001b[1;36m0\u001b[0m\u001b[1;33m:\u001b[0m\u001b[0mborderLen\u001b[0m\u001b[1;33m,\u001b[0m\u001b[1;36m0\u001b[0m\u001b[1;33m:\u001b[0m\u001b[0mleny\u001b[0m\u001b[1;33m]\u001b[0m \u001b[1;33m=\u001b[0m \u001b[1;36m0\u001b[0m\u001b[1;33m\u001b[0m\u001b[0m\n",
      "\u001b[1;31mAttributeError\u001b[0m: 'NoneType' object has no attribute 'shape'"
     ]
    }
   ],
   "source": [
    "import matplotlib.pyplot as plt    #Used for plotting\n",
    "import matplotlib.image as mpimg   #Used for image read\n",
    "import cv2                         #Used for Canny only!\n",
    "import numpy as np                 #Basic calculations library\n",
    "\n",
    "# import customFunctions             #We will define some functions ourselves\n",
    "\n",
    "image = cv2.imread(\"hough.jpg\", 0)         #Converting rgb to gray\n",
    "\n",
    "# image_gray = customFunctions.blurImage(image_gray)       #Blurring gray image with custom function similar to OpenCV.filter2d\n",
    "#                                                          #find it in paragraph Other Custom Functions Used\n",
    "edged = cv2.Canny(image, 30, 130)                   #Finding edges, This is the only place we use OpenCV\n",
    "\n",
    "#Sometimes images have unnecessary lines at the edges and we don't whant to find them\n",
    "##Zero out the border 5px\n",
    "borderLen = 5                         #The width to zero out the borders, counted in pixels\n",
    "lenx, leny = edged.shape\n",
    "\n",
    "edged[0:borderLen,0:leny] = 0\n",
    "edged[lenx-borderLen:lenx,0:leny] = 0\n",
    "edged[0:lenx,0:borderLen] = 0\n",
    "edged[0:lenx,leny-borderLen:leny] = 0\n",
    "plt.imshow(edged)                     #Take a look at the edged picture\n",
    "\n",
    "##Save edged picture to jpg\n",
    "fig, ax1 = plt.subplots(ncols=1, nrows=1, figsize=(8, 4))\n",
    "ax1.set_axis_off()\n",
    "ax1.imshow(edged, cmap=\"bone\")\n",
    "fig.savefig(\"Rectangles_edged.jpg\")"
   ]
  }
 ],
 "metadata": {
  "kernelspec": {
   "display_name": "Python 3",
   "language": "python",
   "name": "python3"
  },
  "language_info": {
   "codemirror_mode": {
    "name": "ipython",
    "version": 3
   },
   "file_extension": ".py",
   "mimetype": "text/x-python",
   "name": "python",
   "nbconvert_exporter": "python",
   "pygments_lexer": "ipython3",
   "version": "3.6.6"
  }
 },
 "nbformat": 4,
 "nbformat_minor": 2
}
