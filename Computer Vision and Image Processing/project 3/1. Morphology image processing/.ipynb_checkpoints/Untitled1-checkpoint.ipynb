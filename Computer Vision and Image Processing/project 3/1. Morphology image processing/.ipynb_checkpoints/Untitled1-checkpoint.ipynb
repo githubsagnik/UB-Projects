{
 "cells": [
  {
   "cell_type": "code",
   "execution_count": 3,
   "metadata": {},
   "outputs": [],
   "source": [
    "import cv2"
   ]
  },
  {
   "cell_type": "code",
   "execution_count": 7,
   "metadata": {},
   "outputs": [],
   "source": [
    "img1 = cv2.imread('h.jpg', 0)\n"
   ]
  },
  {
   "cell_type": "code",
   "execution_count": 65,
   "metadata": {},
   "outputs": [],
   "source": [
    "import numpy as np\n",
    "elem = np.ones((5,5), np.uint8)"
   ]
  },
  {
   "cell_type": "code",
   "execution_count": 12,
   "metadata": {},
   "outputs": [],
   "source": [
    "erosion = cv2.erode(img1, elem, iterations=1)"
   ]
  },
  {
   "cell_type": "code",
   "execution_count": 38,
   "metadata": {},
   "outputs": [],
   "source": [
    "elem = cv2.getStructuringElement(cv2.MORPH_ELLIPSE, (5,5))\n",
    "open1 = cv2.morphologyEx(img1, cv2.MORPH_OPEN, elem)\n",
    "close1 = cv2.morphologyEx(open1, cv2.MORPH_CLOSE, elem)"
   ]
  },
  {
   "cell_type": "code",
   "execution_count": 39,
   "metadata": {},
   "outputs": [
    {
     "data": {
      "text/plain": [
       "True"
      ]
     },
     "execution_count": 39,
     "metadata": {},
     "output_type": "execute_result"
    }
   ],
   "source": [
    "cv2.imwrite('open1.jpg', open1)\n",
    "cv2.imwrite('close1.jpg', close1)"
   ]
  },
  {
   "cell_type": "code",
   "execution_count": 67,
   "metadata": {},
   "outputs": [
    {
     "data": {
      "text/plain": [
       "True"
      ]
     },
     "execution_count": 67,
     "metadata": {},
     "output_type": "execute_result"
    }
   ],
   "source": [
    "elem3 = cv2.getStructuringElement(cv2.MORPH_ELLIPSE, (3,3))\n",
    "elem5 = cv2.getStructuringElement(cv2.MORPH_ELLIPSE, (5,5))\n",
    "\n",
    "# open1 = cv2.morphologyEx(img1, cv2.MORPH_OPEN, elem3)\n",
    "# dil = cv2.dilate(open1, elem, iterations=3)\n",
    "\n",
    "dil = cv2.dilate(img1, elem3, iterations=8)\n",
    "close1 = cv2.morphologyEx(dil, cv2.MORPH_CLOSE, elem5)\n",
    "open1 = cv2.morphologyEx(close1, cv2.MORPH_OPEN, elem5)\n",
    "\n",
    "# er = cv2.erode(dil, elem, iterations=1)\n",
    "\n",
    "cv2.imwrite('d1.jpg', open1)\n",
    "cv2.imwrite('d2.jpg', dil)"
   ]
  },
  {
   "cell_type": "code",
   "execution_count": null,
   "metadata": {},
   "outputs": [],
   "source": []
  }
 ],
 "metadata": {
  "kernelspec": {
   "display_name": "Python 3",
   "language": "python",
   "name": "python3"
  },
  "language_info": {
   "codemirror_mode": {
    "name": "ipython",
    "version": 3
   },
   "file_extension": ".py",
   "mimetype": "text/x-python",
   "name": "python",
   "nbconvert_exporter": "python",
   "pygments_lexer": "ipython3",
   "version": "3.6.6"
  }
 },
 "nbformat": 4,
 "nbformat_minor": 2
}
